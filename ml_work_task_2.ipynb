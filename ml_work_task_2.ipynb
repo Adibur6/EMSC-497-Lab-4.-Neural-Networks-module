{
  "nbformat": 4,
  "nbformat_minor": 0,
  "metadata": {
    "colab": {
      "provenance": [],
      "collapsed_sections": [
        "nfIIcDrlyz4G",
        "cpcd3RWzfPYo"
      ],
      "include_colab_link": true
    },
    "kernelspec": {
      "name": "python3",
      "display_name": "Python 3"
    }
  },
  "cells": [
    {
      "cell_type": "markdown",
      "metadata": {
        "id": "view-in-github",
        "colab_type": "text"
      },
      "source": [
        "<a href=\"https://colab.research.google.com/github/Taosif041/EMSC-497-Lab-4.-Neural-Networks-module/blob/main/ml_work_task_2.ipynb\" target=\"_parent\"><img src=\"https://colab.research.google.com/assets/colab-badge.svg\" alt=\"Open In Colab\"/></a>"
      ]
    },
    {
      "cell_type": "markdown",
      "source": [
        "#TASK 2"
      ],
      "metadata": {
        "id": "3q8YIaHREJVx"
      }
    },
    {
      "cell_type": "markdown",
      "source": [
        "#Neural network"
      ],
      "metadata": {
        "id": "nfIIcDrlyz4G"
      }
    },
    {
      "cell_type": "code",
      "source": [
        "# Import necessary libraries\n",
        "import pandas as pd\n",
        "import numpy as np\n",
        "from sklearn.model_selection import train_test_split\n",
        "from sklearn.ensemble import RandomForestRegressor\n",
        "from sklearn.metrics import mean_squared_error, r2_score\n",
        "from sklearn.preprocessing import StandardScaler\n",
        "import tensorflow as tf\n",
        "from tensorflow.keras.models import Sequential\n",
        "from tensorflow.keras import layers\n",
        "from keras.utils import plot_model\n",
        "import matplotlib.pyplot as plt\n"
      ],
      "metadata": {
        "id": "ZMsTQTHdvaY1"
      },
      "execution_count": 308,
      "outputs": []
    },
    {
      "cell_type": "code",
      "source": [
        "# Load biodiversity data (replace 'your_dataset.csv' with the actual file name)\n",
        "df = pd.read_csv('/content/data_bio.csv')\n",
        "\n",
        "# Define predictor variables (X) and target variable (y)\n",
        "X = df[['JanMeanTem', 'JulyMeanTe', 'pptMean', 'seasMean', 'elevationM', 'elevationS', 'slopeMean', 'slopeStdev', 'lulcDecicu', 'lulcEvergr', 'lulcMixFor', 'lulcWater']]\n",
        "y = df['bbsrich']\n",
        "\n",
        "# Split the data into training and test sets\n",
        "X_train, X_test, y_train, y_test = train_test_split(X, y, test_size=0.3, random_state=42)\n"
      ],
      "metadata": {
        "id": "YyZ47wbUxH-9"
      },
      "execution_count": 309,
      "outputs": []
    },
    {
      "cell_type": "code",
      "source": [
        "# standardize the data\n",
        "mean = X_train.mean(axis=0)\n",
        "X_train -= mean\n",
        "std = X_train.std(axis=0)\n",
        "X_train /= std\n",
        "X_test -= mean\n",
        "X_test /= std\n",
        "X_test"
      ],
      "metadata": {
        "id": "g0k2KhxSxLzo",
        "colab": {
          "base_uri": "https://localhost:8080/",
          "height": 423
        },
        "outputId": "3389f7c4-679d-4d74-e234-f5b3c45e1763"
      },
      "execution_count": 310,
      "outputs": [
        {
          "output_type": "execute_result",
          "data": {
            "text/plain": [
              "       JanMeanTem  JulyMeanTe   pptMean  seasMean  elevationM  elevationS  \\\n",
              "11654    1.557248    0.986639  1.722629 -1.343873   -1.049690   -0.734678   \n",
              "9543     1.580833   -0.565158 -0.786201 -2.754015   -0.831659    0.599152   \n",
              "2218    -1.136072   -0.835968  0.317724  0.877340   -0.362054    0.416528   \n",
              "4308     0.013876   -0.061631  0.834752 -0.074635   -1.045497   -0.727028   \n",
              "11668    1.226026    1.132140 -0.977228 -0.742772    0.199795   -0.160031   \n",
              "...           ...         ...       ...       ...         ...         ...   \n",
              "2404    -0.694701   -0.480023  0.306042  0.563954   -0.608038   -0.336919   \n",
              "5492     0.138150    0.152769  0.826871 -0.061154   -1.045497   -0.727028   \n",
              "1705    -1.175336   -0.275406 -0.874617  1.430427    0.118732   -0.520500   \n",
              "9885     0.915667    1.159824  1.156410 -0.275926   -0.922505   -0.648624   \n",
              "1568    -1.552821   -0.267496 -0.385447  1.975574   -0.547939   -0.650536   \n",
              "\n",
              "       slopeMean  slopeStdev  lulcDecicu  lulcEvergr  lulcMixFor  lulcWater  \n",
              "11654  -0.734308   -0.743002   -0.412093   -0.069372   -0.252807   4.629074  \n",
              "9543    1.580833    1.394323   -0.412093   -0.313353   -0.489109   6.061275  \n",
              "2218    0.619253    0.738225   -0.362230   -0.485366    3.247431  -0.081696  \n",
              "4308   -0.643968   -0.670903   -0.162317   -0.485366   -0.463574   4.730252  \n",
              "11668  -0.272402   -0.396127   -0.412093   -0.485366   -0.489109  -0.250084  \n",
              "...          ...         ...         ...         ...         ...        ...  \n",
              "2404   -0.355086   -0.368089    1.046254   -0.485366    0.185750  -0.160398  \n",
              "5492   -0.703174   -0.732588   -0.412093   -0.485366   -0.489109   2.841550  \n",
              "1705   -0.525047   -0.564358   -0.412093   -0.485366   -0.489109  -0.250084  \n",
              "9885   -0.625594   -0.712560   -0.412093   -0.428014    3.159670  -0.250084  \n",
              "1568   -0.642947   -0.718168   -0.255579   -0.485366   -0.489109  -0.250084  \n",
              "\n",
              "[3702 rows x 12 columns]"
            ],
            "text/html": [
              "\n",
              "  <div id=\"df-36351f25-6ad2-4366-bc47-86b2a10dad3f\" class=\"colab-df-container\">\n",
              "    <div>\n",
              "<style scoped>\n",
              "    .dataframe tbody tr th:only-of-type {\n",
              "        vertical-align: middle;\n",
              "    }\n",
              "\n",
              "    .dataframe tbody tr th {\n",
              "        vertical-align: top;\n",
              "    }\n",
              "\n",
              "    .dataframe thead th {\n",
              "        text-align: right;\n",
              "    }\n",
              "</style>\n",
              "<table border=\"1\" class=\"dataframe\">\n",
              "  <thead>\n",
              "    <tr style=\"text-align: right;\">\n",
              "      <th></th>\n",
              "      <th>JanMeanTem</th>\n",
              "      <th>JulyMeanTe</th>\n",
              "      <th>pptMean</th>\n",
              "      <th>seasMean</th>\n",
              "      <th>elevationM</th>\n",
              "      <th>elevationS</th>\n",
              "      <th>slopeMean</th>\n",
              "      <th>slopeStdev</th>\n",
              "      <th>lulcDecicu</th>\n",
              "      <th>lulcEvergr</th>\n",
              "      <th>lulcMixFor</th>\n",
              "      <th>lulcWater</th>\n",
              "    </tr>\n",
              "  </thead>\n",
              "  <tbody>\n",
              "    <tr>\n",
              "      <th>11654</th>\n",
              "      <td>1.557248</td>\n",
              "      <td>0.986639</td>\n",
              "      <td>1.722629</td>\n",
              "      <td>-1.343873</td>\n",
              "      <td>-1.049690</td>\n",
              "      <td>-0.734678</td>\n",
              "      <td>-0.734308</td>\n",
              "      <td>-0.743002</td>\n",
              "      <td>-0.412093</td>\n",
              "      <td>-0.069372</td>\n",
              "      <td>-0.252807</td>\n",
              "      <td>4.629074</td>\n",
              "    </tr>\n",
              "    <tr>\n",
              "      <th>9543</th>\n",
              "      <td>1.580833</td>\n",
              "      <td>-0.565158</td>\n",
              "      <td>-0.786201</td>\n",
              "      <td>-2.754015</td>\n",
              "      <td>-0.831659</td>\n",
              "      <td>0.599152</td>\n",
              "      <td>1.580833</td>\n",
              "      <td>1.394323</td>\n",
              "      <td>-0.412093</td>\n",
              "      <td>-0.313353</td>\n",
              "      <td>-0.489109</td>\n",
              "      <td>6.061275</td>\n",
              "    </tr>\n",
              "    <tr>\n",
              "      <th>2218</th>\n",
              "      <td>-1.136072</td>\n",
              "      <td>-0.835968</td>\n",
              "      <td>0.317724</td>\n",
              "      <td>0.877340</td>\n",
              "      <td>-0.362054</td>\n",
              "      <td>0.416528</td>\n",
              "      <td>0.619253</td>\n",
              "      <td>0.738225</td>\n",
              "      <td>-0.362230</td>\n",
              "      <td>-0.485366</td>\n",
              "      <td>3.247431</td>\n",
              "      <td>-0.081696</td>\n",
              "    </tr>\n",
              "    <tr>\n",
              "      <th>4308</th>\n",
              "      <td>0.013876</td>\n",
              "      <td>-0.061631</td>\n",
              "      <td>0.834752</td>\n",
              "      <td>-0.074635</td>\n",
              "      <td>-1.045497</td>\n",
              "      <td>-0.727028</td>\n",
              "      <td>-0.643968</td>\n",
              "      <td>-0.670903</td>\n",
              "      <td>-0.162317</td>\n",
              "      <td>-0.485366</td>\n",
              "      <td>-0.463574</td>\n",
              "      <td>4.730252</td>\n",
              "    </tr>\n",
              "    <tr>\n",
              "      <th>11668</th>\n",
              "      <td>1.226026</td>\n",
              "      <td>1.132140</td>\n",
              "      <td>-0.977228</td>\n",
              "      <td>-0.742772</td>\n",
              "      <td>0.199795</td>\n",
              "      <td>-0.160031</td>\n",
              "      <td>-0.272402</td>\n",
              "      <td>-0.396127</td>\n",
              "      <td>-0.412093</td>\n",
              "      <td>-0.485366</td>\n",
              "      <td>-0.489109</td>\n",
              "      <td>-0.250084</td>\n",
              "    </tr>\n",
              "    <tr>\n",
              "      <th>...</th>\n",
              "      <td>...</td>\n",
              "      <td>...</td>\n",
              "      <td>...</td>\n",
              "      <td>...</td>\n",
              "      <td>...</td>\n",
              "      <td>...</td>\n",
              "      <td>...</td>\n",
              "      <td>...</td>\n",
              "      <td>...</td>\n",
              "      <td>...</td>\n",
              "      <td>...</td>\n",
              "      <td>...</td>\n",
              "    </tr>\n",
              "    <tr>\n",
              "      <th>2404</th>\n",
              "      <td>-0.694701</td>\n",
              "      <td>-0.480023</td>\n",
              "      <td>0.306042</td>\n",
              "      <td>0.563954</td>\n",
              "      <td>-0.608038</td>\n",
              "      <td>-0.336919</td>\n",
              "      <td>-0.355086</td>\n",
              "      <td>-0.368089</td>\n",
              "      <td>1.046254</td>\n",
              "      <td>-0.485366</td>\n",
              "      <td>0.185750</td>\n",
              "      <td>-0.160398</td>\n",
              "    </tr>\n",
              "    <tr>\n",
              "      <th>5492</th>\n",
              "      <td>0.138150</td>\n",
              "      <td>0.152769</td>\n",
              "      <td>0.826871</td>\n",
              "      <td>-0.061154</td>\n",
              "      <td>-1.045497</td>\n",
              "      <td>-0.727028</td>\n",
              "      <td>-0.703174</td>\n",
              "      <td>-0.732588</td>\n",
              "      <td>-0.412093</td>\n",
              "      <td>-0.485366</td>\n",
              "      <td>-0.489109</td>\n",
              "      <td>2.841550</td>\n",
              "    </tr>\n",
              "    <tr>\n",
              "      <th>1705</th>\n",
              "      <td>-1.175336</td>\n",
              "      <td>-0.275406</td>\n",
              "      <td>-0.874617</td>\n",
              "      <td>1.430427</td>\n",
              "      <td>0.118732</td>\n",
              "      <td>-0.520500</td>\n",
              "      <td>-0.525047</td>\n",
              "      <td>-0.564358</td>\n",
              "      <td>-0.412093</td>\n",
              "      <td>-0.485366</td>\n",
              "      <td>-0.489109</td>\n",
              "      <td>-0.250084</td>\n",
              "    </tr>\n",
              "    <tr>\n",
              "      <th>9885</th>\n",
              "      <td>0.915667</td>\n",
              "      <td>1.159824</td>\n",
              "      <td>1.156410</td>\n",
              "      <td>-0.275926</td>\n",
              "      <td>-0.922505</td>\n",
              "      <td>-0.648624</td>\n",
              "      <td>-0.625594</td>\n",
              "      <td>-0.712560</td>\n",
              "      <td>-0.412093</td>\n",
              "      <td>-0.428014</td>\n",
              "      <td>3.159670</td>\n",
              "      <td>-0.250084</td>\n",
              "    </tr>\n",
              "    <tr>\n",
              "      <th>1568</th>\n",
              "      <td>-1.552821</td>\n",
              "      <td>-0.267496</td>\n",
              "      <td>-0.385447</td>\n",
              "      <td>1.975574</td>\n",
              "      <td>-0.547939</td>\n",
              "      <td>-0.650536</td>\n",
              "      <td>-0.642947</td>\n",
              "      <td>-0.718168</td>\n",
              "      <td>-0.255579</td>\n",
              "      <td>-0.485366</td>\n",
              "      <td>-0.489109</td>\n",
              "      <td>-0.250084</td>\n",
              "    </tr>\n",
              "  </tbody>\n",
              "</table>\n",
              "<p>3702 rows × 12 columns</p>\n",
              "</div>\n",
              "    <div class=\"colab-df-buttons\">\n",
              "\n",
              "  <div class=\"colab-df-container\">\n",
              "    <button class=\"colab-df-convert\" onclick=\"convertToInteractive('df-36351f25-6ad2-4366-bc47-86b2a10dad3f')\"\n",
              "            title=\"Convert this dataframe to an interactive table.\"\n",
              "            style=\"display:none;\">\n",
              "\n",
              "  <svg xmlns=\"http://www.w3.org/2000/svg\" height=\"24px\" viewBox=\"0 -960 960 960\">\n",
              "    <path d=\"M120-120v-720h720v720H120Zm60-500h600v-160H180v160Zm220 220h160v-160H400v160Zm0 220h160v-160H400v160ZM180-400h160v-160H180v160Zm440 0h160v-160H620v160ZM180-180h160v-160H180v160Zm440 0h160v-160H620v160Z\"/>\n",
              "  </svg>\n",
              "    </button>\n",
              "\n",
              "  <style>\n",
              "    .colab-df-container {\n",
              "      display:flex;\n",
              "      gap: 12px;\n",
              "    }\n",
              "\n",
              "    .colab-df-convert {\n",
              "      background-color: #E8F0FE;\n",
              "      border: none;\n",
              "      border-radius: 50%;\n",
              "      cursor: pointer;\n",
              "      display: none;\n",
              "      fill: #1967D2;\n",
              "      height: 32px;\n",
              "      padding: 0 0 0 0;\n",
              "      width: 32px;\n",
              "    }\n",
              "\n",
              "    .colab-df-convert:hover {\n",
              "      background-color: #E2EBFA;\n",
              "      box-shadow: 0px 1px 2px rgba(60, 64, 67, 0.3), 0px 1px 3px 1px rgba(60, 64, 67, 0.15);\n",
              "      fill: #174EA6;\n",
              "    }\n",
              "\n",
              "    .colab-df-buttons div {\n",
              "      margin-bottom: 4px;\n",
              "    }\n",
              "\n",
              "    [theme=dark] .colab-df-convert {\n",
              "      background-color: #3B4455;\n",
              "      fill: #D2E3FC;\n",
              "    }\n",
              "\n",
              "    [theme=dark] .colab-df-convert:hover {\n",
              "      background-color: #434B5C;\n",
              "      box-shadow: 0px 1px 3px 1px rgba(0, 0, 0, 0.15);\n",
              "      filter: drop-shadow(0px 1px 2px rgba(0, 0, 0, 0.3));\n",
              "      fill: #FFFFFF;\n",
              "    }\n",
              "  </style>\n",
              "\n",
              "    <script>\n",
              "      const buttonEl =\n",
              "        document.querySelector('#df-36351f25-6ad2-4366-bc47-86b2a10dad3f button.colab-df-convert');\n",
              "      buttonEl.style.display =\n",
              "        google.colab.kernel.accessAllowed ? 'block' : 'none';\n",
              "\n",
              "      async function convertToInteractive(key) {\n",
              "        const element = document.querySelector('#df-36351f25-6ad2-4366-bc47-86b2a10dad3f');\n",
              "        const dataTable =\n",
              "          await google.colab.kernel.invokeFunction('convertToInteractive',\n",
              "                                                    [key], {});\n",
              "        if (!dataTable) return;\n",
              "\n",
              "        const docLinkHtml = 'Like what you see? Visit the ' +\n",
              "          '<a target=\"_blank\" href=https://colab.research.google.com/notebooks/data_table.ipynb>data table notebook</a>'\n",
              "          + ' to learn more about interactive tables.';\n",
              "        element.innerHTML = '';\n",
              "        dataTable['output_type'] = 'display_data';\n",
              "        await google.colab.output.renderOutput(dataTable, element);\n",
              "        const docLink = document.createElement('div');\n",
              "        docLink.innerHTML = docLinkHtml;\n",
              "        element.appendChild(docLink);\n",
              "      }\n",
              "    </script>\n",
              "  </div>\n",
              "\n",
              "\n",
              "<div id=\"df-24be3b39-0850-43f2-a8fe-3eb77fdb1c68\">\n",
              "  <button class=\"colab-df-quickchart\" onclick=\"quickchart('df-24be3b39-0850-43f2-a8fe-3eb77fdb1c68')\"\n",
              "            title=\"Suggest charts\"\n",
              "            style=\"display:none;\">\n",
              "\n",
              "<svg xmlns=\"http://www.w3.org/2000/svg\" height=\"24px\"viewBox=\"0 0 24 24\"\n",
              "     width=\"24px\">\n",
              "    <g>\n",
              "        <path d=\"M19 3H5c-1.1 0-2 .9-2 2v14c0 1.1.9 2 2 2h14c1.1 0 2-.9 2-2V5c0-1.1-.9-2-2-2zM9 17H7v-7h2v7zm4 0h-2V7h2v10zm4 0h-2v-4h2v4z\"/>\n",
              "    </g>\n",
              "</svg>\n",
              "  </button>\n",
              "\n",
              "<style>\n",
              "  .colab-df-quickchart {\n",
              "      --bg-color: #E8F0FE;\n",
              "      --fill-color: #1967D2;\n",
              "      --hover-bg-color: #E2EBFA;\n",
              "      --hover-fill-color: #174EA6;\n",
              "      --disabled-fill-color: #AAA;\n",
              "      --disabled-bg-color: #DDD;\n",
              "  }\n",
              "\n",
              "  [theme=dark] .colab-df-quickchart {\n",
              "      --bg-color: #3B4455;\n",
              "      --fill-color: #D2E3FC;\n",
              "      --hover-bg-color: #434B5C;\n",
              "      --hover-fill-color: #FFFFFF;\n",
              "      --disabled-bg-color: #3B4455;\n",
              "      --disabled-fill-color: #666;\n",
              "  }\n",
              "\n",
              "  .colab-df-quickchart {\n",
              "    background-color: var(--bg-color);\n",
              "    border: none;\n",
              "    border-radius: 50%;\n",
              "    cursor: pointer;\n",
              "    display: none;\n",
              "    fill: var(--fill-color);\n",
              "    height: 32px;\n",
              "    padding: 0;\n",
              "    width: 32px;\n",
              "  }\n",
              "\n",
              "  .colab-df-quickchart:hover {\n",
              "    background-color: var(--hover-bg-color);\n",
              "    box-shadow: 0 1px 2px rgba(60, 64, 67, 0.3), 0 1px 3px 1px rgba(60, 64, 67, 0.15);\n",
              "    fill: var(--button-hover-fill-color);\n",
              "  }\n",
              "\n",
              "  .colab-df-quickchart-complete:disabled,\n",
              "  .colab-df-quickchart-complete:disabled:hover {\n",
              "    background-color: var(--disabled-bg-color);\n",
              "    fill: var(--disabled-fill-color);\n",
              "    box-shadow: none;\n",
              "  }\n",
              "\n",
              "  .colab-df-spinner {\n",
              "    border: 2px solid var(--fill-color);\n",
              "    border-color: transparent;\n",
              "    border-bottom-color: var(--fill-color);\n",
              "    animation:\n",
              "      spin 1s steps(1) infinite;\n",
              "  }\n",
              "\n",
              "  @keyframes spin {\n",
              "    0% {\n",
              "      border-color: transparent;\n",
              "      border-bottom-color: var(--fill-color);\n",
              "      border-left-color: var(--fill-color);\n",
              "    }\n",
              "    20% {\n",
              "      border-color: transparent;\n",
              "      border-left-color: var(--fill-color);\n",
              "      border-top-color: var(--fill-color);\n",
              "    }\n",
              "    30% {\n",
              "      border-color: transparent;\n",
              "      border-left-color: var(--fill-color);\n",
              "      border-top-color: var(--fill-color);\n",
              "      border-right-color: var(--fill-color);\n",
              "    }\n",
              "    40% {\n",
              "      border-color: transparent;\n",
              "      border-right-color: var(--fill-color);\n",
              "      border-top-color: var(--fill-color);\n",
              "    }\n",
              "    60% {\n",
              "      border-color: transparent;\n",
              "      border-right-color: var(--fill-color);\n",
              "    }\n",
              "    80% {\n",
              "      border-color: transparent;\n",
              "      border-right-color: var(--fill-color);\n",
              "      border-bottom-color: var(--fill-color);\n",
              "    }\n",
              "    90% {\n",
              "      border-color: transparent;\n",
              "      border-bottom-color: var(--fill-color);\n",
              "    }\n",
              "  }\n",
              "</style>\n",
              "\n",
              "  <script>\n",
              "    async function quickchart(key) {\n",
              "      const quickchartButtonEl =\n",
              "        document.querySelector('#' + key + ' button');\n",
              "      quickchartButtonEl.disabled = true;  // To prevent multiple clicks.\n",
              "      quickchartButtonEl.classList.add('colab-df-spinner');\n",
              "      try {\n",
              "        const charts = await google.colab.kernel.invokeFunction(\n",
              "            'suggestCharts', [key], {});\n",
              "      } catch (error) {\n",
              "        console.error('Error during call to suggestCharts:', error);\n",
              "      }\n",
              "      quickchartButtonEl.classList.remove('colab-df-spinner');\n",
              "      quickchartButtonEl.classList.add('colab-df-quickchart-complete');\n",
              "    }\n",
              "    (() => {\n",
              "      let quickchartButtonEl =\n",
              "        document.querySelector('#df-24be3b39-0850-43f2-a8fe-3eb77fdb1c68 button');\n",
              "      quickchartButtonEl.style.display =\n",
              "        google.colab.kernel.accessAllowed ? 'block' : 'none';\n",
              "    })();\n",
              "  </script>\n",
              "</div>\n",
              "    </div>\n",
              "  </div>\n"
            ]
          },
          "metadata": {},
          "execution_count": 310
        }
      ]
    },
    {
      "cell_type": "code",
      "source": [
        "# Create a DataFrame to store results\n",
        "results_df = pd.DataFrame(columns=['Model', 'Training RMSE', 'Test RMSE', 'Training R2 Score', 'Test R2 Score'])\n"
      ],
      "metadata": {
        "id": "qOnQ0ZGJ0k6Q"
      },
      "execution_count": 311,
      "outputs": []
    },
    {
      "cell_type": "code",
      "source": [
        "def reg_ANN_variation1():\n",
        "    model = models.Sequential()\n",
        "    model.add(layers.Dense(128, activation='relu', input_shape=(X_train.shape[1],)))  # Increase neurons in the first hidden layer\n",
        "    model.add(layers.Dense(64, activation='relu'))  # Modify the second hidden layer\n",
        "    model.add(layers.Dense(32, activation='relu'))  # Modify the third hidden layer\n",
        "    model.add(layers.Dense(1, activation='linear'))\n",
        "    model.compile(loss='mse', optimizer='adam', metrics=['mse'])\n",
        "    return model"
      ],
      "metadata": {
        "id": "YITqqcu6yGty"
      },
      "execution_count": 312,
      "outputs": []
    },
    {
      "cell_type": "code",
      "source": [
        "model1=reg_ANN_variation1()\n",
        "\n",
        "model1.summary()"
      ],
      "metadata": {
        "id": "vogPHlrzySs4",
        "colab": {
          "base_uri": "https://localhost:8080/"
        },
        "outputId": "35d309db-c9e6-45e9-8ff3-519cbf8f4ea8"
      },
      "execution_count": 313,
      "outputs": [
        {
          "output_type": "stream",
          "name": "stdout",
          "text": [
            "Model: \"sequential_22\"\n",
            "_________________________________________________________________\n",
            " Layer (type)                Output Shape              Param #   \n",
            "=================================================================\n",
            " dense_67 (Dense)            (None, 128)               1664      \n",
            "                                                                 \n",
            " dense_68 (Dense)            (None, 64)                8256      \n",
            "                                                                 \n",
            " dense_69 (Dense)            (None, 32)                2080      \n",
            "                                                                 \n",
            " dense_70 (Dense)            (None, 1)                 33        \n",
            "                                                                 \n",
            "=================================================================\n",
            "Total params: 12033 (47.00 KB)\n",
            "Trainable params: 12033 (47.00 KB)\n",
            "Non-trainable params: 0 (0.00 Byte)\n",
            "_________________________________________________________________\n"
          ]
        }
      ]
    },
    {
      "cell_type": "code",
      "source": [
        "# visualize the model\n",
        "plot_model(model1,show_shapes=True)"
      ],
      "metadata": {
        "colab": {
          "base_uri": "https://localhost:8080/",
          "height": 533
        },
        "id": "u2XAepTB1zRW",
        "outputId": "e6d23d4c-7e20-4bda-ff19-28d1f6764877"
      },
      "execution_count": 314,
      "outputs": [
        {
          "output_type": "execute_result",
          "data": {
            "image/png": "[encoded data removed]",
            "text/plain": [
              "<IPython.core.display.Image object>"
            ]
          },
          "metadata": {},
          "execution_count": 314
        }
      ]
    },
    {
      "cell_type": "code",
      "source": [
        "history1 = model1.fit(X_train, y_train, epochs=200, batch_size=32,  verbose=0, validation_split=0.1)"
      ],
      "metadata": {
        "id": "3K9cY5gtzHvG"
      },
      "execution_count": 315,
      "outputs": []
    },
    {
      "cell_type": "code",
      "source": [
        "# plot the loss function variations over training epochs\n",
        "print(history1.history.keys())\n",
        "# \"Loss\"\n",
        "plt.plot(history1.history['loss'])\n",
        "plt.plot(history1.history['val_loss'])\n",
        "plt.title('model1 loss')\n",
        "plt.ylabel('loss')\n",
        "plt.xlabel('epoch')\n",
        "plt.legend(['train', 'validation'], loc='upper right')\n",
        "plt.show()"
      ],
      "metadata": {
        "colab": {
          "base_uri": "https://localhost:8080/",
          "height": 489
        },
        "id": "F7MUxDcfzRX_",
        "outputId": "518c3c7a-742e-41bd-8a37-5d92842d2038"
      },
      "execution_count": 316,
      "outputs": [
        {
          "output_type": "stream",
          "name": "stdout",
          "text": [
            "dict_keys(['loss', 'mse', 'val_loss', 'val_mse'])\n"
          ]
        },
        {
          "output_type": "display_data",
          "data": {
            "text/plain": [
              "<Figure size 640x480 with 1 Axes>"
            ],
            "image/png": "[encoded data removed]"
          },
          "metadata": {}
        }
      ]
    },
    {
      "cell_type": "code",
      "source": [
        "model1.evaluate(x=X_test, y=y_test, verbose=1)"
      ],
      "metadata": {
        "colab": {
          "base_uri": "https://localhost:8080/"
        },
        "id": "QOKQJxuVzZjc",
        "outputId": "4980e191-3a51-449c-dca0-80f0ffa3ddc2"
      },
      "execution_count": 317,
      "outputs": [
        {
          "output_type": "stream",
          "name": "stdout",
          "text": [
            "116/116 [==============================] - 0s 2ms/step - loss: 211.4016 - mse: 211.4016\n"
          ]
        },
        {
          "output_type": "execute_result",
          "data": {
            "text/plain": [
              "[211.40164184570312, 211.40164184570312]"
            ]
          },
          "metadata": {},
          "execution_count": 317
        }
      ]
    },
    {
      "cell_type": "code",
      "source": [
        "# predict on test data\n",
        "\n",
        "y_pred = model1.predict(X_test)\n",
        "y_pred_train = model1.predict(X_train)"
      ],
      "metadata": {
        "colab": {
          "base_uri": "https://localhost:8080/"
        },
        "id": "m9kK18RXzdmQ",
        "outputId": "e12cf575-9792-4eaf-adae-b5e2621c0df4"
      },
      "execution_count": 318,
      "outputs": [
        {
          "output_type": "stream",
          "name": "stdout",
          "text": [
            "116/116 [==============================] - 0s 1ms/step\n",
            "270/270 [==============================] - 0s 2ms/step\n"
          ]
        }
      ]
    },
    {
      "cell_type": "code",
      "source": [
        "train_rmse = mean_squared_error(y_train, y_pred_train, squared=False)\n",
        "test_rmse = mean_squared_error(y_test, y_pred, squared=False)\n",
        "r2_train = r2_score(y_train, y_pred_train)\n",
        "r2_test = r2_score(y_test, y_pred)\n"
      ],
      "metadata": {
        "id": "6cv9-KSozjcs"
      },
      "execution_count": 319,
      "outputs": []
    },
    {
      "cell_type": "code",
      "source": [
        "# Print evaluation metrics\n",
        "print(f\"Training RMSE: {train_rmse}\")\n",
        "print(f\"Test RMSE: {test_rmse}\")\n",
        "print(f\"Training R2 Score: {r2_train}\")\n",
        "print(f\"Test R2 Score: {r2_test}\\n\")"
      ],
      "metadata": {
        "colab": {
          "base_uri": "https://localhost:8080/"
        },
        "id": "RKduSsmq0bMV",
        "outputId": "87fc771e-fe73-41b1-9e42-2804437fd3ed"
      },
      "execution_count": 320,
      "outputs": [
        {
          "output_type": "stream",
          "name": "stdout",
          "text": [
            "Training RMSE: 13.198322958324582\n",
            "Test RMSE: 14.539660470892235\n",
            "Training R2 Score: 0.7987519224982785\n",
            "Test R2 Score: 0.7614320688183771\n",
            "\n"
          ]
        }
      ]
    },
    {
      "cell_type": "code",
      "source": [
        " # Append results to the DataFrame\n",
        "results_df = results_df.append({'Model': 'NN Variation1', 'Training RMSE': train_rmse, 'Test RMSE': test_rmse, 'Training R2 Score': r2_train, 'Test R2 Score': r2_test}, ignore_index=True)\n"
      ],
      "metadata": {
        "colab": {
          "base_uri": "https://localhost:8080/"
        },
        "id": "nXtS5PvV0rJa",
        "outputId": "8f99b629-23dc-43d0-aaaa-13d809208f03"
      },
      "execution_count": 321,
      "outputs": [
        {
          "output_type": "stream",
          "name": "stderr",
          "text": [
            "<ipython-input-321-d0c0397b53b4>:2: FutureWarning: The frame.append method is deprecated and will be removed from pandas in a future version. Use pandas.concat instead.\n",
            "  results_df = results_df.append({'Model': 'NN Variation1', 'Training RMSE': train_rmse, 'Test RMSE': test_rmse, 'Training R2 Score': r2_train, 'Test R2 Score': r2_test}, ignore_index=True)\n"
          ]
        }
      ]
    },
    {
      "cell_type": "code",
      "source": [
        "def reg_ANN_variation2():\n",
        "    model = models.Sequential()\n",
        "    model.add(layers.Dense(256, activation='relu', input_shape=(X_train.shape[1],)))\n",
        "    model.add(layers.Dense(128, activation='relu'))\n",
        "    model.add(layers.Dense(64, activation='relu'))\n",
        "    model.add(layers.Dense(32, activation='relu'))\n",
        "    model.add(layers.Dense(1, activation='linear'))\n",
        "    model.compile(loss='mse', optimizer='adam', metrics=['mse'])\n",
        "    return model"
      ],
      "metadata": {
        "id": "dol2Af3O-wR-"
      },
      "execution_count": 322,
      "outputs": []
    },
    {
      "cell_type": "code",
      "source": [
        "model2=reg_ANN_variation2()\n",
        "\n",
        "model2.summary()"
      ],
      "metadata": {
        "colab": {
          "base_uri": "https://localhost:8080/"
        },
        "id": "-v9hdw_h_PRs",
        "outputId": "922c56e8-7eb3-4d33-b4cd-5ec4c5e0e141"
      },
      "execution_count": 323,
      "outputs": [
        {
          "output_type": "stream",
          "name": "stdout",
          "text": [
            "Model: \"sequential_23\"\n",
            "_________________________________________________________________\n",
            " Layer (type)                Output Shape              Param #   \n",
            "=================================================================\n",
            " dense_71 (Dense)            (None, 256)               3328      \n",
            "                                                                 \n",
            " dense_72 (Dense)            (None, 128)               32896     \n",
            "                                                                 \n",
            " dense_73 (Dense)            (None, 64)                8256      \n",
            "                                                                 \n",
            " dense_74 (Dense)            (None, 32)                2080      \n",
            "                                                                 \n",
            " dense_75 (Dense)            (None, 1)                 33        \n",
            "                                                                 \n",
            "=================================================================\n",
            "Total params: 46593 (182.00 KB)\n",
            "Trainable params: 46593 (182.00 KB)\n",
            "Non-trainable params: 0 (0.00 Byte)\n",
            "_________________________________________________________________\n"
          ]
        }
      ]
    },
    {
      "cell_type": "code",
      "source": [
        "# visualize the model\n",
        "plot_model(model2,show_shapes=True)"
      ],
      "metadata": {
        "colab": {
          "base_uri": "https://localhost:8080/",
          "height": 644
        },
        "id": "d4idKYqr_PR1",
        "outputId": "4d5515b4-c867-4e76-d94c-afe2412b69d4"
      },
      "execution_count": 324,
      "outputs": [
        {
          "output_type": "execute_result",
          "data": {
            "image/png": "[encoded data removed]",
            "text/plain": [
              "<IPython.core.display.Image object>"
            ]
          },
          "metadata": {},
          "execution_count": 324
        }
      ]
    },
    {
      "cell_type": "code",
      "source": [
        "history2 = model2.fit(X_train, y_train, epochs=200, batch_size=32,  verbose=0, validation_split=0.1)"
      ],
      "metadata": {
        "id": "ZNYeL5s3_PR1"
      },
      "execution_count": 325,
      "outputs": []
    },
    {
      "cell_type": "code",
      "source": [
        "# plot the loss function variations over training epochs\n",
        "print(history2.history.keys())\n",
        "# \"Loss\"\n",
        "plt.plot(history2.history['loss'])\n",
        "plt.plot(history2.history['val_loss'])\n",
        "plt.title('model2 loss')\n",
        "plt.ylabel('loss')\n",
        "plt.xlabel('epoch')\n",
        "plt.legend(['train', 'validation'], loc='upper right')\n",
        "plt.show()"
      ],
      "metadata": {
        "colab": {
          "base_uri": "https://localhost:8080/",
          "height": 489
        },
        "id": "SiiGn2Wd_PR1",
        "outputId": "2db31e5a-83f6-4073-9ddb-ca9e5d9127a7"
      },
      "execution_count": 326,
      "outputs": [
        {
          "output_type": "stream",
          "name": "stdout",
          "text": [
            "dict_keys(['loss', 'mse', 'val_loss', 'val_mse'])\n"
          ]
        },
        {
          "output_type": "display_data",
          "data": {
            "text/plain": [
              "<Figure size 640x480 with 1 Axes>"
            ],
            "image/png": "[encoded data removed]"
          },
          "metadata": {}
        }
      ]
    },
    {
      "cell_type": "code",
      "source": [
        "model2.evaluate(x=X_test, y=y_test, verbose=1)"
      ],
      "metadata": {
        "colab": {
          "base_uri": "https://localhost:8080/"
        },
        "id": "R-ys7zhQ_PR1",
        "outputId": "261e463b-db40-4fae-c1cb-7dd527bde77e"
      },
      "execution_count": 327,
      "outputs": [
        {
          "output_type": "stream",
          "name": "stdout",
          "text": [
            "116/116 [==============================] - 0s 2ms/step - loss: 175.2305 - mse: 175.2305\n"
          ]
        },
        {
          "output_type": "execute_result",
          "data": {
            "text/plain": [
              "[175.2305450439453, 175.2305450439453]"
            ]
          },
          "metadata": {},
          "execution_count": 327
        }
      ]
    },
    {
      "cell_type": "code",
      "source": [
        "# predict on test data\n",
        "\n",
        "y_pred = model2.predict(X_test)\n",
        "y_pred_train = model2.predict(X_train)"
      ],
      "metadata": {
        "colab": {
          "base_uri": "https://localhost:8080/"
        },
        "outputId": "774ae4e9-17a7-4dbb-b99a-11b9ba970748",
        "id": "T8JRuSAt_PR2"
      },
      "execution_count": 328,
      "outputs": [
        {
          "output_type": "stream",
          "name": "stdout",
          "text": [
            "116/116 [==============================] - 0s 2ms/step\n",
            "270/270 [==============================] - 0s 2ms/step\n"
          ]
        }
      ]
    },
    {
      "cell_type": "code",
      "source": [
        "train_rmse = mean_squared_error(y_train, y_pred_train, squared=False)\n",
        "test_rmse = mean_squared_error(y_test, y_pred, squared=False)\n",
        "r2_train = r2_score(y_train, y_pred_train)\n",
        "r2_test = r2_score(y_test, y_pred)\n"
      ],
      "metadata": {
        "id": "Ef3aNKKi_PR2"
      },
      "execution_count": 329,
      "outputs": []
    },
    {
      "cell_type": "code",
      "source": [
        "# Print evaluation metrics\n",
        "print(f\"Training RMSE: {train_rmse}\")\n",
        "print(f\"Test RMSE: {test_rmse}\")\n",
        "print(f\"Training R2 Score: {r2_train}\")\n",
        "print(f\"Test R2 Score: {r2_test}\\n\")"
      ],
      "metadata": {
        "colab": {
          "base_uri": "https://localhost:8080/"
        },
        "id": "9941kPS0_PR2",
        "outputId": "6881f6f8-0ff1-425e-88c5-87d52155259c"
      },
      "execution_count": 330,
      "outputs": [
        {
          "output_type": "stream",
          "name": "stdout",
          "text": [
            "Training RMSE: 10.296527907418119\n",
            "Test RMSE: 13.237469259052009\n",
            "Training R2 Score: 0.8775169930330263\n",
            "Test R2 Score: 0.8022513790428119\n",
            "\n"
          ]
        }
      ]
    },
    {
      "cell_type": "code",
      "source": [
        " # Append results to the DataFrame\n",
        "results_df = results_df.append({'Model': 'NN Variation2', 'Training RMSE': train_rmse, 'Test RMSE': test_rmse, 'Training R2 Score': r2_train, 'Test R2 Score': r2_test}, ignore_index=True)\n"
      ],
      "metadata": {
        "colab": {
          "base_uri": "https://localhost:8080/"
        },
        "id": "HYaXI7FZ_PR2",
        "outputId": "3b5ca77a-fd08-41c8-fe06-ade479c1c6d5"
      },
      "execution_count": 331,
      "outputs": [
        {
          "output_type": "stream",
          "name": "stderr",
          "text": [
            "<ipython-input-331-a1eb873f48c3>:2: FutureWarning: The frame.append method is deprecated and will be removed from pandas in a future version. Use pandas.concat instead.\n",
            "  results_df = results_df.append({'Model': 'NN Variation2', 'Training RMSE': train_rmse, 'Test RMSE': test_rmse, 'Training R2 Score': r2_train, 'Test R2 Score': r2_test}, ignore_index=True)\n"
          ]
        }
      ]
    },
    {
      "cell_type": "code",
      "source": [
        "def reg_ANN_variation3():\n",
        "    model = models.Sequential()\n",
        "    model.add(layers.Dense(512, activation='relu', input_shape=(X_train.shape[1],)))\n",
        "    model.add(layers.Dense(256, activation='relu'))\n",
        "    model.add(layers.Dense(128, activation='relu'))\n",
        "    model.add(layers.Dense(32, activation='relu'))\n",
        "\n",
        "    model.add(layers.Dense(1, activation='linear'))\n",
        "    model.compile(loss='mse', optimizer='adam', metrics=['mse'])\n",
        "    return model\n"
      ],
      "metadata": {
        "id": "hcBS3nIi_4h6"
      },
      "execution_count": 332,
      "outputs": []
    },
    {
      "cell_type": "code",
      "source": [
        "model3=reg_ANN_variation3()\n",
        "\n",
        "model3.summary()"
      ],
      "metadata": {
        "colab": {
          "base_uri": "https://localhost:8080/"
        },
        "id": "1txEt8vY_nlB",
        "outputId": "bfadaf71-0df7-4351-de86-5d50642d1565"
      },
      "execution_count": 333,
      "outputs": [
        {
          "output_type": "stream",
          "name": "stdout",
          "text": [
            "Model: \"sequential_24\"\n",
            "_________________________________________________________________\n",
            " Layer (type)                Output Shape              Param #   \n",
            "=================================================================\n",
            " dense_76 (Dense)            (None, 512)               6656      \n",
            "                                                                 \n",
            " dense_77 (Dense)            (None, 256)               131328    \n",
            "                                                                 \n",
            " dense_78 (Dense)            (None, 128)               32896     \n",
            "                                                                 \n",
            " dense_79 (Dense)            (None, 32)                4128      \n",
            "                                                                 \n",
            " dense_80 (Dense)            (None, 1)                 33        \n",
            "                                                                 \n",
            "=================================================================\n",
            "Total params: 175041 (683.75 KB)\n",
            "Trainable params: 175041 (683.75 KB)\n",
            "Non-trainable params: 0 (0.00 Byte)\n",
            "_________________________________________________________________\n"
          ]
        }
      ]
    },
    {
      "cell_type": "code",
      "source": [
        "# visualize the model\n",
        "plot_model(model3,show_shapes=True)"
      ],
      "metadata": {
        "colab": {
          "base_uri": "https://localhost:8080/",
          "height": 644
        },
        "id": "-fPuIHrs_nlQ",
        "outputId": "3e53b331-2bfd-4955-9c8b-82192e5ccd23"
      },
      "execution_count": 334,
      "outputs": [
        {
          "output_type": "execute_result",
          "data": {
            "image/png": "[encoded data removed]",
            "text/plain": [
              "<IPython.core.display.Image object>"
            ]
          },
          "metadata": {},
          "execution_count": 334
        }
      ]
    },
    {
      "cell_type": "code",
      "source": [
        "history3 = model3.fit(X_train, y_train, epochs=200, batch_size=32,  verbose=0, validation_split=0.1)"
      ],
      "metadata": {
        "id": "NYdOfJoB_nlQ"
      },
      "execution_count": 335,
      "outputs": []
    },
    {
      "cell_type": "code",
      "source": [
        "# plot the loss function variations over training epochs\n",
        "print(history3.history.keys())\n",
        "# \"Loss\"\n",
        "plt.plot(history3.history['loss'])\n",
        "plt.plot(history3.history['val_loss'])\n",
        "plt.title('model3 loss')\n",
        "plt.ylabel('loss')\n",
        "plt.xlabel('epoch')\n",
        "plt.legend(['train', 'validation'], loc='upper right')\n",
        "plt.show()"
      ],
      "metadata": {
        "colab": {
          "base_uri": "https://localhost:8080/",
          "height": 489
        },
        "id": "POIJVBfi_nlR",
        "outputId": "48fb1fbd-234e-4ee4-aab7-cf7c8c226083"
      },
      "execution_count": 336,
      "outputs": [
        {
          "output_type": "stream",
          "name": "stdout",
          "text": [
            "dict_keys(['loss', 'mse', 'val_loss', 'val_mse'])\n"
          ]
        },
        {
          "output_type": "display_data",
          "data": {
            "text/plain": [
              "<Figure size 640x480 with 1 Axes>"
            ],
            "image/png": "[encoded data removed]"
          },
          "metadata": {}
        }
      ]
    },
    {
      "cell_type": "code",
      "source": [
        "model3.evaluate(x=X_test, y=y_test, verbose=1)"
      ],
      "metadata": {
        "colab": {
          "base_uri": "https://localhost:8080/"
        },
        "id": "2uhOTJuU_nlR",
        "outputId": "f4f5e270-32dd-4376-f88a-a2d142ee128f"
      },
      "execution_count": 337,
      "outputs": [
        {
          "output_type": "stream",
          "name": "stdout",
          "text": [
            "116/116 [==============================] - 0s 2ms/step - loss: 199.2536 - mse: 199.2536\n"
          ]
        },
        {
          "output_type": "execute_result",
          "data": {
            "text/plain": [
              "[199.25364685058594, 199.25364685058594]"
            ]
          },
          "metadata": {},
          "execution_count": 337
        }
      ]
    },
    {
      "cell_type": "code",
      "source": [
        "# predict on test data\n",
        "\n",
        "y_pred = model3.predict(X_test)\n",
        "y_pred_train = model3.predict(X_train)"
      ],
      "metadata": {
        "colab": {
          "base_uri": "https://localhost:8080/"
        },
        "outputId": "ba7818ba-9e39-40d6-eff9-bb9becc6b6bf",
        "id": "Sal9Av9R_nlR"
      },
      "execution_count": 338,
      "outputs": [
        {
          "output_type": "stream",
          "name": "stdout",
          "text": [
            "116/116 [==============================] - 0s 2ms/step\n",
            "270/270 [==============================] - 1s 2ms/step\n"
          ]
        }
      ]
    },
    {
      "cell_type": "code",
      "source": [
        "train_rmse = mean_squared_error(y_train, y_pred_train, squared=False)\n",
        "test_rmse = mean_squared_error(y_test, y_pred, squared=False)\n",
        "r2_train = r2_score(y_train, y_pred_train)\n",
        "r2_test = r2_score(y_test, y_pred)\n"
      ],
      "metadata": {
        "id": "Q2HlIvSa_nlS"
      },
      "execution_count": 339,
      "outputs": []
    },
    {
      "cell_type": "code",
      "source": [
        "# Print evaluation metrics\n",
        "print(f\"Training RMSE: {train_rmse}\")\n",
        "print(f\"Test RMSE: {test_rmse}\")\n",
        "print(f\"Training R2 Score: {r2_train}\")\n",
        "print(f\"Test R2 Score: {r2_test}\\n\")"
      ],
      "metadata": {
        "colab": {
          "base_uri": "https://localhost:8080/"
        },
        "id": "ly1c1YtM_nlS",
        "outputId": "eea66dd0-3865-418a-d2ff-d886a81e3dfd"
      },
      "execution_count": 340,
      "outputs": [
        {
          "output_type": "stream",
          "name": "stdout",
          "text": [
            "Training RMSE: 9.524493300514573\n",
            "Test RMSE: 14.115721749718906\n",
            "Training R2 Score: 0.8951959660274136\n",
            "Test R2 Score: 0.7751412913318907\n",
            "\n"
          ]
        }
      ]
    },
    {
      "cell_type": "code",
      "source": [
        " # Append results to the DataFrame\n",
        "results_df = results_df.append({'Model': 'NN Variation3', 'Training RMSE': train_rmse, 'Test RMSE': test_rmse, 'Training R2 Score': r2_train, 'Test R2 Score': r2_test}, ignore_index=True)\n"
      ],
      "metadata": {
        "colab": {
          "base_uri": "https://localhost:8080/"
        },
        "id": "ydYOQze7_nlS",
        "outputId": "3da7672c-84cb-4420-a34c-8c3f49d3ad1d"
      },
      "execution_count": 341,
      "outputs": [
        {
          "output_type": "stream",
          "name": "stderr",
          "text": [
            "<ipython-input-341-233a3a140e99>:2: FutureWarning: The frame.append method is deprecated and will be removed from pandas in a future version. Use pandas.concat instead.\n",
            "  results_df = results_df.append({'Model': 'NN Variation3', 'Training RMSE': train_rmse, 'Test RMSE': test_rmse, 'Training R2 Score': r2_train, 'Test R2 Score': r2_test}, ignore_index=True)\n"
          ]
        }
      ]
    },
    {
      "cell_type": "markdown",
      "source": [
        "#Random forest"
      ],
      "metadata": {
        "id": "cpcd3RWzfPYo"
      }
    },
    {
      "cell_type": "code",
      "source": [
        "from sklearn.model_selection import train_test_split, GridSearchCV\n",
        "from sklearn.ensemble import RandomForestRegressor\n",
        "from sklearn.metrics import mean_squared_error, r2_score\n",
        "from sklearn.preprocessing import StandardScaler\n",
        "import pandas as pd\n",
        "from google.colab import files"
      ],
      "metadata": {
        "id": "a0nsJQeudycs"
      },
      "execution_count": 343,
      "outputs": []
    },
    {
      "cell_type": "code",
      "source": [
        "df = pd.read_csv('/content/data_bio.csv')\n",
        "df.head()"
      ],
      "metadata": {
        "id": "FI9NnK3zd-tc",
        "colab": {
          "base_uri": "https://localhost:8080/",
          "height": 226
        },
        "outputId": "d1118c54-9cf9-459f-edfd-e2538989eb91"
      },
      "execution_count": 344,
      "outputs": [
        {
          "output_type": "execute_result",
          "data": {
            "text/plain": [
              "   hexID  JanMeanTem  JulyMeanTe   pptMean  seasMean  elevationM  elevationS  \\\n",
              "0  13554     -18.251      19.000   565.623    37.251         328         4.7   \n",
              "1  18789     -15.129      19.871   357.733    35.000         731        10.4   \n",
              "2  25367      -5.926      19.889   568.333    25.815         693       336.8   \n",
              "3  24503      -9.375      14.344  1150.842    23.719        1023       219.9   \n",
              "4  16185     -18.212      17.985   445.283    36.197         588        28.3   \n",
              "\n",
              "   lulcDecicu  lulcEvergr  lulcMixFor  lulcWater  slopeMean  slopeStdev  \\\n",
              "0     0.04945     0.00000     0.43681    0.10165      0.095       0.087   \n",
              "1     0.00000     0.00000     0.00000    0.00000      0.235       0.191   \n",
              "2     0.00000     0.09091     0.00000    0.00000     10.475       8.463   \n",
              "3     0.00000     1.00000     0.00000    0.00000      5.917       2.970   \n",
              "4     0.38182     0.00000     0.00000    0.00000      0.352       0.285   \n",
              "\n",
              "       XCoord     YCoord     bbsrich  \n",
              "0  -95.086403  49.295887  193.725692  \n",
              "1 -104.658256  49.117530   88.408062  \n",
              "2 -119.670818  49.113730  202.459189  \n",
              "3 -117.371076  49.109173  185.113130  \n",
              "4  -99.760629  49.098623  179.614359  "
            ],
            "text/html": [
              "\n",
              "  <div id=\"df-ca8aacc4-5e74-4d4f-b3fa-e11716900df0\" class=\"colab-df-container\">\n",
              "    <div>\n",
              "<style scoped>\n",
              "    .dataframe tbody tr th:only-of-type {\n",
              "        vertical-align: middle;\n",
              "    }\n",
              "\n",
              "    .dataframe tbody tr th {\n",
              "        vertical-align: top;\n",
              "    }\n",
              "\n",
              "    .dataframe thead th {\n",
              "        text-align: right;\n",
              "    }\n",
              "</style>\n",
              "<table border=\"1\" class=\"dataframe\">\n",
              "  <thead>\n",
              "    <tr style=\"text-align: right;\">\n",
              "      <th></th>\n",
              "      <th>hexID</th>\n",
              "      <th>JanMeanTem</th>\n",
              "      <th>JulyMeanTe</th>\n",
              "      <th>pptMean</th>\n",
              "      <th>seasMean</th>\n",
              "      <th>elevationM</th>\n",
              "      <th>elevationS</th>\n",
              "      <th>lulcDecicu</th>\n",
              "      <th>lulcEvergr</th>\n",
              "      <th>lulcMixFor</th>\n",
              "      <th>lulcWater</th>\n",
              "      <th>slopeMean</th>\n",
              "      <th>slopeStdev</th>\n",
              "      <th>XCoord</th>\n",
              "      <th>YCoord</th>\n",
              "      <th>bbsrich</th>\n",
              "    </tr>\n",
              "  </thead>\n",
              "  <tbody>\n",
              "    <tr>\n",
              "      <th>0</th>\n",
              "      <td>13554</td>\n",
              "      <td>-18.251</td>\n",
              "      <td>19.000</td>\n",
              "      <td>565.623</td>\n",
              "      <td>37.251</td>\n",
              "      <td>328</td>\n",
              "      <td>4.7</td>\n",
              "      <td>0.04945</td>\n",
              "      <td>0.00000</td>\n",
              "      <td>0.43681</td>\n",
              "      <td>0.10165</td>\n",
              "      <td>0.095</td>\n",
              "      <td>0.087</td>\n",
              "      <td>-95.086403</td>\n",
              "      <td>49.295887</td>\n",
              "      <td>193.725692</td>\n",
              "    </tr>\n",
              "    <tr>\n",
              "      <th>1</th>\n",
              "      <td>18789</td>\n",
              "      <td>-15.129</td>\n",
              "      <td>19.871</td>\n",
              "      <td>357.733</td>\n",
              "      <td>35.000</td>\n",
              "      <td>731</td>\n",
              "      <td>10.4</td>\n",
              "      <td>0.00000</td>\n",
              "      <td>0.00000</td>\n",
              "      <td>0.00000</td>\n",
              "      <td>0.00000</td>\n",
              "      <td>0.235</td>\n",
              "      <td>0.191</td>\n",
              "      <td>-104.658256</td>\n",
              "      <td>49.117530</td>\n",
              "      <td>88.408062</td>\n",
              "    </tr>\n",
              "    <tr>\n",
              "      <th>2</th>\n",
              "      <td>25367</td>\n",
              "      <td>-5.926</td>\n",
              "      <td>19.889</td>\n",
              "      <td>568.333</td>\n",
              "      <td>25.815</td>\n",
              "      <td>693</td>\n",
              "      <td>336.8</td>\n",
              "      <td>0.00000</td>\n",
              "      <td>0.09091</td>\n",
              "      <td>0.00000</td>\n",
              "      <td>0.00000</td>\n",
              "      <td>10.475</td>\n",
              "      <td>8.463</td>\n",
              "      <td>-119.670818</td>\n",
              "      <td>49.113730</td>\n",
              "      <td>202.459189</td>\n",
              "    </tr>\n",
              "    <tr>\n",
              "      <th>3</th>\n",
              "      <td>24503</td>\n",
              "      <td>-9.375</td>\n",
              "      <td>14.344</td>\n",
              "      <td>1150.842</td>\n",
              "      <td>23.719</td>\n",
              "      <td>1023</td>\n",
              "      <td>219.9</td>\n",
              "      <td>0.00000</td>\n",
              "      <td>1.00000</td>\n",
              "      <td>0.00000</td>\n",
              "      <td>0.00000</td>\n",
              "      <td>5.917</td>\n",
              "      <td>2.970</td>\n",
              "      <td>-117.371076</td>\n",
              "      <td>49.109173</td>\n",
              "      <td>185.113130</td>\n",
              "    </tr>\n",
              "    <tr>\n",
              "      <th>4</th>\n",
              "      <td>16185</td>\n",
              "      <td>-18.212</td>\n",
              "      <td>17.985</td>\n",
              "      <td>445.283</td>\n",
              "      <td>36.197</td>\n",
              "      <td>588</td>\n",
              "      <td>28.3</td>\n",
              "      <td>0.38182</td>\n",
              "      <td>0.00000</td>\n",
              "      <td>0.00000</td>\n",
              "      <td>0.00000</td>\n",
              "      <td>0.352</td>\n",
              "      <td>0.285</td>\n",
              "      <td>-99.760629</td>\n",
              "      <td>49.098623</td>\n",
              "      <td>179.614359</td>\n",
              "    </tr>\n",
              "  </tbody>\n",
              "</table>\n",
              "</div>\n",
              "    <div class=\"colab-df-buttons\">\n",
              "\n",
              "  <div class=\"colab-df-container\">\n",
              "    <button class=\"colab-df-convert\" onclick=\"convertToInteractive('df-ca8aacc4-5e74-4d4f-b3fa-e11716900df0')\"\n",
              "            title=\"Convert this dataframe to an interactive table.\"\n",
              "            style=\"display:none;\">\n",
              "\n",
              "  <svg xmlns=\"http://www.w3.org/2000/svg\" height=\"24px\" viewBox=\"0 -960 960 960\">\n",
              "    <path d=\"M120-120v-720h720v720H120Zm60-500h600v-160H180v160Zm220 220h160v-160H400v160Zm0 220h160v-160H400v160ZM180-400h160v-160H180v160Zm440 0h160v-160H620v160ZM180-180h160v-160H180v160Zm440 0h160v-160H620v160Z\"/>\n",
              "  </svg>\n",
              "    </button>\n",
              "\n",
              "  <style>\n",
              "    .colab-df-container {\n",
              "      display:flex;\n",
              "      gap: 12px;\n",
              "    }\n",
              "\n",
              "    .colab-df-convert {\n",
              "      background-color: #E8F0FE;\n",
              "      border: none;\n",
              "      border-radius: 50%;\n",
              "      cursor: pointer;\n",
              "      display: none;\n",
              "      fill: #1967D2;\n",
              "      height: 32px;\n",
              "      padding: 0 0 0 0;\n",
              "      width: 32px;\n",
              "    }\n",
              "\n",
              "    .colab-df-convert:hover {\n",
              "      background-color: #E2EBFA;\n",
              "      box-shadow: 0px 1px 2px rgba(60, 64, 67, 0.3), 0px 1px 3px 1px rgba(60, 64, 67, 0.15);\n",
              "      fill: #174EA6;\n",
              "    }\n",
              "\n",
              "    .colab-df-buttons div {\n",
              "      margin-bottom: 4px;\n",
              "    }\n",
              "\n",
              "    [theme=dark] .colab-df-convert {\n",
              "      background-color: #3B4455;\n",
              "      fill: #D2E3FC;\n",
              "    }\n",
              "\n",
              "    [theme=dark] .colab-df-convert:hover {\n",
              "      background-color: #434B5C;\n",
              "      box-shadow: 0px 1px 3px 1px rgba(0, 0, 0, 0.15);\n",
              "      filter: drop-shadow(0px 1px 2px rgba(0, 0, 0, 0.3));\n",
              "      fill: #FFFFFF;\n",
              "    }\n",
              "  </style>\n",
              "\n",
              "    <script>\n",
              "      const buttonEl =\n",
              "        document.querySelector('#df-ca8aacc4-5e74-4d4f-b3fa-e11716900df0 button.colab-df-convert');\n",
              "      buttonEl.style.display =\n",
              "        google.colab.kernel.accessAllowed ? 'block' : 'none';\n",
              "\n",
              "      async function convertToInteractive(key) {\n",
              "        const element = document.querySelector('#df-ca8aacc4-5e74-4d4f-b3fa-e11716900df0');\n",
              "        const dataTable =\n",
              "          await google.colab.kernel.invokeFunction('convertToInteractive',\n",
              "                                                    [key], {});\n",
              "        if (!dataTable) return;\n",
              "\n",
              "        const docLinkHtml = 'Like what you see? Visit the ' +\n",
              "          '<a target=\"_blank\" href=https://colab.research.google.com/notebooks/data_table.ipynb>data table notebook</a>'\n",
              "          + ' to learn more about interactive tables.';\n",
              "        element.innerHTML = '';\n",
              "        dataTable['output_type'] = 'display_data';\n",
              "        await google.colab.output.renderOutput(dataTable, element);\n",
              "        const docLink = document.createElement('div');\n",
              "        docLink.innerHTML = docLinkHtml;\n",
              "        element.appendChild(docLink);\n",
              "      }\n",
              "    </script>\n",
              "  </div>\n",
              "\n",
              "\n",
              "<div id=\"df-5a083352-ffc1-432f-a4c9-8d35f361a281\">\n",
              "  <button class=\"colab-df-quickchart\" onclick=\"quickchart('df-5a083352-ffc1-432f-a4c9-8d35f361a281')\"\n",
              "            title=\"Suggest charts\"\n",
              "            style=\"display:none;\">\n",
              "\n",
              "<svg xmlns=\"http://www.w3.org/2000/svg\" height=\"24px\"viewBox=\"0 0 24 24\"\n",
              "     width=\"24px\">\n",
              "    <g>\n",
              "        <path d=\"M19 3H5c-1.1 0-2 .9-2 2v14c0 1.1.9 2 2 2h14c1.1 0 2-.9 2-2V5c0-1.1-.9-2-2-2zM9 17H7v-7h2v7zm4 0h-2V7h2v10zm4 0h-2v-4h2v4z\"/>\n",
              "    </g>\n",
              "</svg>\n",
              "  </button>\n",
              "\n",
              "<style>\n",
              "  .colab-df-quickchart {\n",
              "      --bg-color: #E8F0FE;\n",
              "      --fill-color: #1967D2;\n",
              "      --hover-bg-color: #E2EBFA;\n",
              "      --hover-fill-color: #174EA6;\n",
              "      --disabled-fill-color: #AAA;\n",
              "      --disabled-bg-color: #DDD;\n",
              "  }\n",
              "\n",
              "  [theme=dark] .colab-df-quickchart {\n",
              "      --bg-color: #3B4455;\n",
              "      --fill-color: #D2E3FC;\n",
              "      --hover-bg-color: #434B5C;\n",
              "      --hover-fill-color: #FFFFFF;\n",
              "      --disabled-bg-color: #3B4455;\n",
              "      --disabled-fill-color: #666;\n",
              "  }\n",
              "\n",
              "  .colab-df-quickchart {\n",
              "    background-color: var(--bg-color);\n",
              "    border: none;\n",
              "    border-radius: 50%;\n",
              "    cursor: pointer;\n",
              "    display: none;\n",
              "    fill: var(--fill-color);\n",
              "    height: 32px;\n",
              "    padding: 0;\n",
              "    width: 32px;\n",
              "  }\n",
              "\n",
              "  .colab-df-quickchart:hover {\n",
              "    background-color: var(--hover-bg-color);\n",
              "    box-shadow: 0 1px 2px rgba(60, 64, 67, 0.3), 0 1px 3px 1px rgba(60, 64, 67, 0.15);\n",
              "    fill: var(--button-hover-fill-color);\n",
              "  }\n",
              "\n",
              "  .colab-df-quickchart-complete:disabled,\n",
              "  .colab-df-quickchart-complete:disabled:hover {\n",
              "    background-color: var(--disabled-bg-color);\n",
              "    fill: var(--disabled-fill-color);\n",
              "    box-shadow: none;\n",
              "  }\n",
              "\n",
              "  .colab-df-spinner {\n",
              "    border: 2px solid var(--fill-color);\n",
              "    border-color: transparent;\n",
              "    border-bottom-color: var(--fill-color);\n",
              "    animation:\n",
              "      spin 1s steps(1) infinite;\n",
              "  }\n",
              "\n",
              "  @keyframes spin {\n",
              "    0% {\n",
              "      border-color: transparent;\n",
              "      border-bottom-color: var(--fill-color);\n",
              "      border-left-color: var(--fill-color);\n",
              "    }\n",
              "    20% {\n",
              "      border-color: transparent;\n",
              "      border-left-color: var(--fill-color);\n",
              "      border-top-color: var(--fill-color);\n",
              "    }\n",
              "    30% {\n",
              "      border-color: transparent;\n",
              "      border-left-color: var(--fill-color);\n",
              "      border-top-color: var(--fill-color);\n",
              "      border-right-color: var(--fill-color);\n",
              "    }\n",
              "    40% {\n",
              "      border-color: transparent;\n",
              "      border-right-color: var(--fill-color);\n",
              "      border-top-color: var(--fill-color);\n",
              "    }\n",
              "    60% {\n",
              "      border-color: transparent;\n",
              "      border-right-color: var(--fill-color);\n",
              "    }\n",
              "    80% {\n",
              "      border-color: transparent;\n",
              "      border-right-color: var(--fill-color);\n",
              "      border-bottom-color: var(--fill-color);\n",
              "    }\n",
              "    90% {\n",
              "      border-color: transparent;\n",
              "      border-bottom-color: var(--fill-color);\n",
              "    }\n",
              "  }\n",
              "</style>\n",
              "\n",
              "  <script>\n",
              "    async function quickchart(key) {\n",
              "      const quickchartButtonEl =\n",
              "        document.querySelector('#' + key + ' button');\n",
              "      quickchartButtonEl.disabled = true;  // To prevent multiple clicks.\n",
              "      quickchartButtonEl.classList.add('colab-df-spinner');\n",
              "      try {\n",
              "        const charts = await google.colab.kernel.invokeFunction(\n",
              "            'suggestCharts', [key], {});\n",
              "      } catch (error) {\n",
              "        console.error('Error during call to suggestCharts:', error);\n",
              "      }\n",
              "      quickchartButtonEl.classList.remove('colab-df-spinner');\n",
              "      quickchartButtonEl.classList.add('colab-df-quickchart-complete');\n",
              "    }\n",
              "    (() => {\n",
              "      let quickchartButtonEl =\n",
              "        document.querySelector('#df-5a083352-ffc1-432f-a4c9-8d35f361a281 button');\n",
              "      quickchartButtonEl.style.display =\n",
              "        google.colab.kernel.accessAllowed ? 'block' : 'none';\n",
              "    })();\n",
              "  </script>\n",
              "</div>\n",
              "    </div>\n",
              "  </div>\n"
            ]
          },
          "metadata": {},
          "execution_count": 344
        }
      ]
    },
    {
      "cell_type": "code",
      "source": [
        "# Define predictor variables (X) and target variable (y)\n",
        "X = df[['JanMeanTem', 'JulyMeanTe', 'pptMean', 'seasMean', 'elevationM', 'elevationS', 'slopeMean', 'slopeStdev', 'lulcDecicu', 'lulcEvergr', 'lulcMixFor', 'lulcWater']]\n",
        "y = df['bbsrich']\n",
        "\n",
        "# Split the data into training and test sets\n",
        "X_train, X_test, y_train, y_test = train_test_split(X, y, test_size=0.3, random_state=42)\n"
      ],
      "metadata": {
        "id": "LOgjI1NpfhIk"
      },
      "execution_count": 345,
      "outputs": []
    },
    {
      "cell_type": "code",
      "source": [
        "# Create a random forest regression model\n",
        "rf_model = RandomForestRegressor(n_estimators=100, random_state=42)\n",
        "\n",
        "# Fit the model to the training data\n",
        "rf_model.fit(X_train, y_train)\n",
        "\n"
      ],
      "metadata": {
        "colab": {
          "base_uri": "https://localhost:8080/",
          "height": 74
        },
        "id": "G8sy-vHQfnhq",
        "outputId": "8fcc8d9f-111f-478d-b1d7-b1c80f0d8b30"
      },
      "execution_count": 346,
      "outputs": [
        {
          "output_type": "execute_result",
          "data": {
            "text/plain": [
              "RandomForestRegressor(random_state=42)"
            ],
            "text/html": [
              "<style>#sk-container-id-11 {color: black;background-color: white;}#sk-container-id-11 pre{padding: 0;}#sk-container-id-11 div.sk-toggleable {background-color: white;}#sk-container-id-11 label.sk-toggleable__label {cursor: pointer;display: block;width: 100%;margin-bottom: 0;padding: 0.3em;box-sizing: border-box;text-align: center;}#sk-container-id-11 label.sk-toggleable__label-arrow:before {content: \"▸\";float: left;margin-right: 0.25em;color: #696969;}#sk-container-id-11 label.sk-toggleable__label-arrow:hover:before {color: black;}#sk-container-id-11 div.sk-estimator:hover label.sk-toggleable__label-arrow:before {color: black;}#sk-container-id-11 div.sk-toggleable__content {max-height: 0;max-width: 0;overflow: hidden;text-align: left;background-color: #f0f8ff;}#sk-container-id-11 div.sk-toggleable__content pre {margin: 0.2em;color: black;border-radius: 0.25em;background-color: #f0f8ff;}#sk-container-id-11 input.sk-toggleable__control:checked~div.sk-toggleable__content {max-height: 200px;max-width: 100%;overflow: auto;}#sk-container-id-11 input.sk-toggleable__control:checked~label.sk-toggleable__label-arrow:before {content: \"▾\";}#sk-container-id-11 div.sk-estimator input.sk-toggleable__control:checked~label.sk-toggleable__label {background-color: #d4ebff;}#sk-container-id-11 div.sk-label input.sk-toggleable__control:checked~label.sk-toggleable__label {background-color: #d4ebff;}#sk-container-id-11 input.sk-hidden--visually {border: 0;clip: rect(1px 1px 1px 1px);clip: rect(1px, 1px, 1px, 1px);height: 1px;margin: -1px;overflow: hidden;padding: 0;position: absolute;width: 1px;}#sk-container-id-11 div.sk-estimator {font-family: monospace;background-color: #f0f8ff;border: 1px dotted black;border-radius: 0.25em;box-sizing: border-box;margin-bottom: 0.5em;}#sk-container-id-11 div.sk-estimator:hover {background-color: #d4ebff;}#sk-container-id-11 div.sk-parallel-item::after {content: \"\";width: 100%;border-bottom: 1px solid gray;flex-grow: 1;}#sk-container-id-11 div.sk-label:hover label.sk-toggleable__label {background-color: #d4ebff;}#sk-container-id-11 div.sk-serial::before {content: \"\";position: absolute;border-left: 1px solid gray;box-sizing: border-box;top: 0;bottom: 0;left: 50%;z-index: 0;}#sk-container-id-11 div.sk-serial {display: flex;flex-direction: column;align-items: center;background-color: white;padding-right: 0.2em;padding-left: 0.2em;position: relative;}#sk-container-id-11 div.sk-item {position: relative;z-index: 1;}#sk-container-id-11 div.sk-parallel {display: flex;align-items: stretch;justify-content: center;background-color: white;position: relative;}#sk-container-id-11 div.sk-item::before, #sk-container-id-11 div.sk-parallel-item::before {content: \"\";position: absolute;border-left: 1px solid gray;box-sizing: border-box;top: 0;bottom: 0;left: 50%;z-index: -1;}#sk-container-id-11 div.sk-parallel-item {display: flex;flex-direction: column;z-index: 1;position: relative;background-color: white;}#sk-container-id-11 div.sk-parallel-item:first-child::after {align-self: flex-end;width: 50%;}#sk-container-id-11 div.sk-parallel-item:last-child::after {align-self: flex-start;width: 50%;}#sk-container-id-11 div.sk-parallel-item:only-child::after {width: 0;}#sk-container-id-11 div.sk-dashed-wrapped {border: 1px dashed gray;margin: 0 0.4em 0.5em 0.4em;box-sizing: border-box;padding-bottom: 0.4em;background-color: white;}#sk-container-id-11 div.sk-label label {font-family: monospace;font-weight: bold;display: inline-block;line-height: 1.2em;}#sk-container-id-11 div.sk-label-container {text-align: center;}#sk-container-id-11 div.sk-container {/* jupyter's `normalize.less` sets `[hidden] { display: none; }` but bootstrap.min.css set `[hidden] { display: none !important; }` so we also need the `!important` here to be able to override the default hidden behavior on the sphinx rendered scikit-learn.org. See: https://github.com/scikit-learn/scikit-learn/issues/21755 */display: inline-block !important;position: relative;}#sk-container-id-11 div.sk-text-repr-fallback {display: none;}</style><div id=\"sk-container-id-11\" class=\"sk-top-container\"><div class=\"sk-text-repr-fallback\"><pre>RandomForestRegressor(random_state=42)</pre><b>In a Jupyter environment, please rerun this cell to show the HTML representation or trust the notebook. <br />On GitHub, the HTML representation is unable to render, please try loading this page with nbviewer.org.</b></div><div class=\"sk-container\" hidden><div class=\"sk-item\"><div class=\"sk-estimator sk-toggleable\"><input class=\"sk-toggleable__control sk-hidden--visually\" id=\"sk-estimator-id-17\" type=\"checkbox\" checked><label for=\"sk-estimator-id-17\" class=\"sk-toggleable__label sk-toggleable__label-arrow\">RandomForestRegressor</label><div class=\"sk-toggleable__content\"><pre>RandomForestRegressor(random_state=42)</pre></div></div></div></div></div>"
            ]
          },
          "metadata": {},
          "execution_count": 346
        }
      ]
    },
    {
      "cell_type": "code",
      "source": [
        "# Make predictions on the training set\n",
        "y_train_pred = rf_model.predict(X_train)\n",
        "\n",
        "# Make predictions on the test set\n",
        "y_test_pred = rf_model.predict(X_test)\n"
      ],
      "metadata": {
        "id": "rAv_jietiWqq"
      },
      "execution_count": 347,
      "outputs": []
    },
    {
      "cell_type": "code",
      "source": [
        "# Evaluate the model\n",
        "train_rmse = mean_squared_error(y_train, y_train_pred, squared=False)\n",
        "test_rmse = mean_squared_error(y_test, y_test_pred, squared=False)\n",
        "r2_train = r2_score(y_train, y_train_pred)\n",
        "r2_test = r2_score(y_test, y_test_pred)"
      ],
      "metadata": {
        "id": "0sXrR8SSfucy"
      },
      "execution_count": 348,
      "outputs": []
    },
    {
      "cell_type": "code",
      "source": [
        "# Display the evaluation metrics\n",
        "print(f\"Training RMSE: {train_rmse}\")\n",
        "print(f\"Test RMSE: {test_rmse}\")\n",
        "print(f\"Training R2 Score: {r2_train}\")\n",
        "print(f\"Test R2 Score: {r2_test}\")"
      ],
      "metadata": {
        "colab": {
          "base_uri": "https://localhost:8080/"
        },
        "id": "hrlGDyF8fx_F",
        "outputId": "f72fcf5e-0850-4389-cbfc-6977fafc95c3"
      },
      "execution_count": 349,
      "outputs": [
        {
          "output_type": "stream",
          "name": "stdout",
          "text": [
            "Training RMSE: 4.910586200866972\n",
            "Test RMSE: 12.709409706365541\n",
            "Training R2 Score: 0.9721412955430676\n",
            "Test R2 Score: 0.8177135889188034\n"
          ]
        }
      ]
    },
    {
      "cell_type": "code",
      "source": [
        " # Append results to the DataFrame\n",
        "results_df = results_df.append({'Model': 'Random Forest', 'Training RMSE': train_rmse, 'Test RMSE': test_rmse, 'Training R2 Score': r2_train, 'Test R2 Score': r2_test}, ignore_index=True)\n"
      ],
      "metadata": {
        "colab": {
          "base_uri": "https://localhost:8080/"
        },
        "id": "tXps-1ux09xD",
        "outputId": "063832ae-fd1b-4f7b-b3d5-661f3dde2fad"
      },
      "execution_count": 350,
      "outputs": [
        {
          "output_type": "stream",
          "name": "stderr",
          "text": [
            "<ipython-input-350-a90e6df15fa0>:2: FutureWarning: The frame.append method is deprecated and will be removed from pandas in a future version. Use pandas.concat instead.\n",
            "  results_df = results_df.append({'Model': 'Random Forest', 'Training RMSE': train_rmse, 'Test RMSE': test_rmse, 'Training R2 Score': r2_train, 'Test R2 Score': r2_test}, ignore_index=True)\n"
          ]
        }
      ]
    },
    {
      "cell_type": "code",
      "source": [
        "results_df"
      ],
      "metadata": {
        "colab": {
          "base_uri": "https://localhost:8080/",
          "height": 175
        },
        "id": "wVx_kacZDZfR",
        "outputId": "e2931c97-adfc-45a5-e02d-cb5fa65fcad5"
      },
      "execution_count": 351,
      "outputs": [
        {
          "output_type": "execute_result",
          "data": {
            "text/plain": [
              "           Model  Training RMSE  Test RMSE  Training R2 Score  Test R2 Score\n",
              "0  NN Variation1      13.198323  14.539660           0.798752       0.761432\n",
              "1  NN Variation2      10.296528  13.237469           0.877517       0.802251\n",
              "2  NN Variation3       9.524493  14.115722           0.895196       0.775141\n",
              "3  Random Forest       4.910586  12.709410           0.972141       0.817714"
            ],
            "text/html": [
              "\n",
              "  <div id=\"df-32588e87-8122-48fd-975c-48f523c76b83\" class=\"colab-df-container\">\n",
              "    <div>\n",
              "<style scoped>\n",
              "    .dataframe tbody tr th:only-of-type {\n",
              "        vertical-align: middle;\n",
              "    }\n",
              "\n",
              "    .dataframe tbody tr th {\n",
              "        vertical-align: top;\n",
              "    }\n",
              "\n",
              "    .dataframe thead th {\n",
              "        text-align: right;\n",
              "    }\n",
              "</style>\n",
              "<table border=\"1\" class=\"dataframe\">\n",
              "  <thead>\n",
              "    <tr style=\"text-align: right;\">\n",
              "      <th></th>\n",
              "      <th>Model</th>\n",
              "      <th>Training RMSE</th>\n",
              "      <th>Test RMSE</th>\n",
              "      <th>Training R2 Score</th>\n",
              "      <th>Test R2 Score</th>\n",
              "    </tr>\n",
              "  </thead>\n",
              "  <tbody>\n",
              "    <tr>\n",
              "      <th>0</th>\n",
              "      <td>NN Variation1</td>\n",
              "      <td>13.198323</td>\n",
              "      <td>14.539660</td>\n",
              "      <td>0.798752</td>\n",
              "      <td>0.761432</td>\n",
              "    </tr>\n",
              "    <tr>\n",
              "      <th>1</th>\n",
              "      <td>NN Variation2</td>\n",
              "      <td>10.296528</td>\n",
              "      <td>13.237469</td>\n",
              "      <td>0.877517</td>\n",
              "      <td>0.802251</td>\n",
              "    </tr>\n",
              "    <tr>\n",
              "      <th>2</th>\n",
              "      <td>NN Variation3</td>\n",
              "      <td>9.524493</td>\n",
              "      <td>14.115722</td>\n",
              "      <td>0.895196</td>\n",
              "      <td>0.775141</td>\n",
              "    </tr>\n",
              "    <tr>\n",
              "      <th>3</th>\n",
              "      <td>Random Forest</td>\n",
              "      <td>4.910586</td>\n",
              "      <td>12.709410</td>\n",
              "      <td>0.972141</td>\n",
              "      <td>0.817714</td>\n",
              "    </tr>\n",
              "  </tbody>\n",
              "</table>\n",
              "</div>\n",
              "    <div class=\"colab-df-buttons\">\n",
              "\n",
              "  <div class=\"colab-df-container\">\n",
              "    <button class=\"colab-df-convert\" onclick=\"convertToInteractive('df-32588e87-8122-48fd-975c-48f523c76b83')\"\n",
              "            title=\"Convert this dataframe to an interactive table.\"\n",
              "            style=\"display:none;\">\n",
              "\n",
              "  <svg xmlns=\"http://www.w3.org/2000/svg\" height=\"24px\" viewBox=\"0 -960 960 960\">\n",
              "    <path d=\"M120-120v-720h720v720H120Zm60-500h600v-160H180v160Zm220 220h160v-160H400v160Zm0 220h160v-160H400v160ZM180-400h160v-160H180v160Zm440 0h160v-160H620v160ZM180-180h160v-160H180v160Zm440 0h160v-160H620v160Z\"/>\n",
              "  </svg>\n",
              "    </button>\n",
              "\n",
              "  <style>\n",
              "    .colab-df-container {\n",
              "      display:flex;\n",
              "      gap: 12px;\n",
              "    }\n",
              "\n",
              "    .colab-df-convert {\n",
              "      background-color: #E8F0FE;\n",
              "      border: none;\n",
              "      border-radius: 50%;\n",
              "      cursor: pointer;\n",
              "      display: none;\n",
              "      fill: #1967D2;\n",
              "      height: 32px;\n",
              "      padding: 0 0 0 0;\n",
              "      width: 32px;\n",
              "    }\n",
              "\n",
              "    .colab-df-convert:hover {\n",
              "      background-color: #E2EBFA;\n",
              "      box-shadow: 0px 1px 2px rgba(60, 64, 67, 0.3), 0px 1px 3px 1px rgba(60, 64, 67, 0.15);\n",
              "      fill: #174EA6;\n",
              "    }\n",
              "\n",
              "    .colab-df-buttons div {\n",
              "      margin-bottom: 4px;\n",
              "    }\n",
              "\n",
              "    [theme=dark] .colab-df-convert {\n",
              "      background-color: #3B4455;\n",
              "      fill: #D2E3FC;\n",
              "    }\n",
              "\n",
              "    [theme=dark] .colab-df-convert:hover {\n",
              "      background-color: #434B5C;\n",
              "      box-shadow: 0px 1px 3px 1px rgba(0, 0, 0, 0.15);\n",
              "      filter: drop-shadow(0px 1px 2px rgba(0, 0, 0, 0.3));\n",
              "      fill: #FFFFFF;\n",
              "    }\n",
              "  </style>\n",
              "\n",
              "    <script>\n",
              "      const buttonEl =\n",
              "        document.querySelector('#df-32588e87-8122-48fd-975c-48f523c76b83 button.colab-df-convert');\n",
              "      buttonEl.style.display =\n",
              "        google.colab.kernel.accessAllowed ? 'block' : 'none';\n",
              "\n",
              "      async function convertToInteractive(key) {\n",
              "        const element = document.querySelector('#df-32588e87-8122-48fd-975c-48f523c76b83');\n",
              "        const dataTable =\n",
              "          await google.colab.kernel.invokeFunction('convertToInteractive',\n",
              "                                                    [key], {});\n",
              "        if (!dataTable) return;\n",
              "\n",
              "        const docLinkHtml = 'Like what you see? Visit the ' +\n",
              "          '<a target=\"_blank\" href=https://colab.research.google.com/notebooks/data_table.ipynb>data table notebook</a>'\n",
              "          + ' to learn more about interactive tables.';\n",
              "        element.innerHTML = '';\n",
              "        dataTable['output_type'] = 'display_data';\n",
              "        await google.colab.output.renderOutput(dataTable, element);\n",
              "        const docLink = document.createElement('div');\n",
              "        docLink.innerHTML = docLinkHtml;\n",
              "        element.appendChild(docLink);\n",
              "      }\n",
              "    </script>\n",
              "  </div>\n",
              "\n",
              "\n",
              "<div id=\"df-78309cc0-38c2-4648-877f-538fe54de352\">\n",
              "  <button class=\"colab-df-quickchart\" onclick=\"quickchart('df-78309cc0-38c2-4648-877f-538fe54de352')\"\n",
              "            title=\"Suggest charts\"\n",
              "            style=\"display:none;\">\n",
              "\n",
              "<svg xmlns=\"http://www.w3.org/2000/svg\" height=\"24px\"viewBox=\"0 0 24 24\"\n",
              "     width=\"24px\">\n",
              "    <g>\n",
              "        <path d=\"M19 3H5c-1.1 0-2 .9-2 2v14c0 1.1.9 2 2 2h14c1.1 0 2-.9 2-2V5c0-1.1-.9-2-2-2zM9 17H7v-7h2v7zm4 0h-2V7h2v10zm4 0h-2v-4h2v4z\"/>\n",
              "    </g>\n",
              "</svg>\n",
              "  </button>\n",
              "\n",
              "<style>\n",
              "  .colab-df-quickchart {\n",
              "      --bg-color: #E8F0FE;\n",
              "      --fill-color: #1967D2;\n",
              "      --hover-bg-color: #E2EBFA;\n",
              "      --hover-fill-color: #174EA6;\n",
              "      --disabled-fill-color: #AAA;\n",
              "      --disabled-bg-color: #DDD;\n",
              "  }\n",
              "\n",
              "  [theme=dark] .colab-df-quickchart {\n",
              "      --bg-color: #3B4455;\n",
              "      --fill-color: #D2E3FC;\n",
              "      --hover-bg-color: #434B5C;\n",
              "      --hover-fill-color: #FFFFFF;\n",
              "      --disabled-bg-color: #3B4455;\n",
              "      --disabled-fill-color: #666;\n",
              "  }\n",
              "\n",
              "  .colab-df-quickchart {\n",
              "    background-color: var(--bg-color);\n",
              "    border: none;\n",
              "    border-radius: 50%;\n",
              "    cursor: pointer;\n",
              "    display: none;\n",
              "    fill: var(--fill-color);\n",
              "    height: 32px;\n",
              "    padding: 0;\n",
              "    width: 32px;\n",
              "  }\n",
              "\n",
              "  .colab-df-quickchart:hover {\n",
              "    background-color: var(--hover-bg-color);\n",
              "    box-shadow: 0 1px 2px rgba(60, 64, 67, 0.3), 0 1px 3px 1px rgba(60, 64, 67, 0.15);\n",
              "    fill: var(--button-hover-fill-color);\n",
              "  }\n",
              "\n",
              "  .colab-df-quickchart-complete:disabled,\n",
              "  .colab-df-quickchart-complete:disabled:hover {\n",
              "    background-color: var(--disabled-bg-color);\n",
              "    fill: var(--disabled-fill-color);\n",
              "    box-shadow: none;\n",
              "  }\n",
              "\n",
              "  .colab-df-spinner {\n",
              "    border: 2px solid var(--fill-color);\n",
              "    border-color: transparent;\n",
              "    border-bottom-color: var(--fill-color);\n",
              "    animation:\n",
              "      spin 1s steps(1) infinite;\n",
              "  }\n",
              "\n",
              "  @keyframes spin {\n",
              "    0% {\n",
              "      border-color: transparent;\n",
              "      border-bottom-color: var(--fill-color);\n",
              "      border-left-color: var(--fill-color);\n",
              "    }\n",
              "    20% {\n",
              "      border-color: transparent;\n",
              "      border-left-color: var(--fill-color);\n",
              "      border-top-color: var(--fill-color);\n",
              "    }\n",
              "    30% {\n",
              "      border-color: transparent;\n",
              "      border-left-color: var(--fill-color);\n",
              "      border-top-color: var(--fill-color);\n",
              "      border-right-color: var(--fill-color);\n",
              "    }\n",
              "    40% {\n",
              "      border-color: transparent;\n",
              "      border-right-color: var(--fill-color);\n",
              "      border-top-color: var(--fill-color);\n",
              "    }\n",
              "    60% {\n",
              "      border-color: transparent;\n",
              "      border-right-color: var(--fill-color);\n",
              "    }\n",
              "    80% {\n",
              "      border-color: transparent;\n",
              "      border-right-color: var(--fill-color);\n",
              "      border-bottom-color: var(--fill-color);\n",
              "    }\n",
              "    90% {\n",
              "      border-color: transparent;\n",
              "      border-bottom-color: var(--fill-color);\n",
              "    }\n",
              "  }\n",
              "</style>\n",
              "\n",
              "  <script>\n",
              "    async function quickchart(key) {\n",
              "      const quickchartButtonEl =\n",
              "        document.querySelector('#' + key + ' button');\n",
              "      quickchartButtonEl.disabled = true;  // To prevent multiple clicks.\n",
              "      quickchartButtonEl.classList.add('colab-df-spinner');\n",
              "      try {\n",
              "        const charts = await google.colab.kernel.invokeFunction(\n",
              "            'suggestCharts', [key], {});\n",
              "      } catch (error) {\n",
              "        console.error('Error during call to suggestCharts:', error);\n",
              "      }\n",
              "      quickchartButtonEl.classList.remove('colab-df-spinner');\n",
              "      quickchartButtonEl.classList.add('colab-df-quickchart-complete');\n",
              "    }\n",
              "    (() => {\n",
              "      let quickchartButtonEl =\n",
              "        document.querySelector('#df-78309cc0-38c2-4648-877f-538fe54de352 button');\n",
              "      quickchartButtonEl.style.display =\n",
              "        google.colab.kernel.accessAllowed ? 'block' : 'none';\n",
              "    })();\n",
              "  </script>\n",
              "</div>\n",
              "    </div>\n",
              "  </div>\n"
            ]
          },
          "metadata": {},
          "execution_count": 351
        }
      ]
    },
    {
      "cell_type": "markdown",
      "source": [
        "\n",
        "# Overfitting Analysis:\n",
        "\n",
        "1.  **NN Variation 1:**\n",
        "    \n",
        "    -   Training RMSE: 13.198323\n",
        "    -   Test RMSE: 14.539660\n",
        "    -   Training R2 Score: 0.798752\n",
        "    -   Test R2 Score: 0.761432\n",
        "    \n",
        "    The model has a relatively high Training RMSE compared to Variation 2 and Variation 3, suggesting that it may not fit the training data as well. The R2 scores on both training and test sets are decent, but the difference between them could indicate a mild level of overfitting.\n",
        "    \n",
        "2.  **NN Variation 2:**\n",
        "    \n",
        "    -   Training RMSE: 10.296528\n",
        "    -   Test RMSE: 13.237469\n",
        "    -   Training R2 Score: 0.877517\n",
        "    -   Test R2 Score: 0.802251\n",
        "    \n",
        "    Variation 2 has lower Training RMSE compared to Variation 1, and both the training and test R2 scores are high. This suggests that the model generalizes well to the test set. The model seems less prone to overfitting compared to Variation 1.\n",
        "    \n",
        "3.  **NN Variation 3:**\n",
        "    \n",
        "    -   Training RMSE: 9.524493\n",
        "    -   Test RMSE: 14.115722\n",
        "    -   Training R2 Score: 0.895196\n",
        "    -   Test R2 Score: 0.775141\n",
        "    \n",
        "    This variation has the lowest Training RMSE and high R2 scores on both training and test sets, indicating good generalization. However, the larger difference between Training and Test R2 scores might suggest some overfitting.\n",
        "    \n",
        "\n",
        "### Random Forest Model:\n",
        "\n",
        "-   Training RMSE: 4.910586\n",
        "-   Test RMSE: 12.709410\n",
        "-   Training R2 Score: 0.972141\n",
        "-   Test R2 Score: 0.817714\n",
        "\n",
        "The Random Forest model exhibits lower RMSE on both training and test sets compared to the neural network models. The high R2 scores on both sets indicate strong performance and generalization.\n",
        "\n",
        "### Discussion on Neural Network vs. Random Forest:\n",
        "\n",
        "**Advantages of Neural Network Models:**\n",
        "\n",
        "-   Neural networks can capture complex relationships in data and learn intricate patterns.\n",
        "-   Suitable for tasks with large datasets and high-dimensional input spaces.\n",
        "-   Can automatically learn hierarchical features from the data.\n",
        "\n",
        "**Disadvantages of Neural Network Models:**\n",
        "\n",
        "-   Prone to overfitting, especially with complex architectures and insufficient data.\n",
        "-   Computationally intensive and may require more resources for training.\n",
        "-   The interpretability of neural networks is often challenging.\n",
        "\n",
        "**Advantages of Random Forest Model:**\n",
        "\n",
        "-   Robust and less prone to overfitting, especially with a large number of trees.\n",
        "-   Handles non-linearity and interactions well.\n",
        "-   Requires less preprocessing of data, and no need for feature scaling.\n",
        "\n",
        "**Disadvantages of Random Forest Model:**\n",
        "\n",
        "-   May not capture complex, non-linear relationships as effectively as neural networks.\n",
        "-   Lack of interpretability compared to simpler models.\n",
        "\n",
        "### Conclusion:\n",
        "\n",
        "-   The Random Forest model appears to perform well with lower RMSE and high R2 scores on both training and test sets.\n",
        "-   Neural network variations show decent performance, but there are indications of potential overfitting, especially in Variation 1 and Variation 3.\n",
        "-   The choice between a neural network and a random forest depends on factors such as the size of the dataset, complexity of relationships, and computational resources available. If interpretability is crucial, a Random Forest might be preferred. If intricate patterns need to be captured, a carefully tuned neural network might be more suitable."
      ],
      "metadata": {
        "id": "LuAH9xn7Ljca"
      }
    }
  ]
}